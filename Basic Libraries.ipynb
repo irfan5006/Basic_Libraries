{
 "cells": [
  {
   "cell_type": "markdown",
   "metadata": {},
   "source": [
    "# **Here are some popular machine learning libraries along with installation commands:**"
   ]
  },
  {
   "cell_type": "markdown",
   "metadata": {},
   "source": [
    "**01 Scikit-learn:**\n",
    "\n",
    "Installation command: `pip install scikit-learn`\n",
    "\n",
    "**02 TensorFlow:**\n",
    "\n",
    "Installation command: `pip install tensorflow`\n",
    "\n",
    "**03 PyTorch:**\n",
    "\n",
    "Installation command: `pip install torch`\n",
    "\n",
    "**04 Keras:**\n",
    "\n",
    "Installation command: `pip install keras`\n",
    "\n",
    "**05 XGBoost:**\n",
    "\n",
    "Installation command: `pip install xgboost`\n",
    "\n",
    "**06 LightGBM:**\n",
    "\n",
    "Installation command: `pip install lightgbm`\n",
    "\n",
    "**07 CatBoost:**\n",
    "\n",
    "Installation command: `pip install catboost`\n",
    "\n",
    "**08 OpenCV (for computer vision tasks):**\n",
    "\n",
    "Installation command: `pip install opencv-python`"
   ]
  },
  {
   "cell_type": "markdown",
   "metadata": {},
   "source": [
    "**09 Pandas (for data manipulation and analysis):**\n",
    "\n",
    "Installation command: `pip install pandas`\n",
    "\n",
    "**10 NumPy (for numerical computations):**\n",
    "\n",
    "Installation command: `pip install numpy`\n",
    "\n",
    "**11 Matplotlib (for data visualization):**\n",
    "\n",
    "Installation command: `pip install matplotlib`\n",
    "\n",
    "**12 Seaborn (for statistical data visualization):**\n",
    "\n",
    "Installation command: `pip install seaborn`\n",
    "\n",
    "**13 NLTK (for natural language processing):**\n",
    "\n",
    "Installation command: `pip install nltk`\n",
    "\n",
    "**14 Spacy (for advanced natural language processing):**\n",
    "\n",
    "Installation command: `pip install spacy`\n",
    "\n",
    "**15 Gensim (for topic modeling and document similarity analysis):**\n",
    "\n",
    "Installation command: `pip install gensim`\n",
    "\n",
    "**16 Scipy (for scientific computing):**\n",
    "\n",
    "Installation command: `pip install scipy`"
   ]
  }
 ],
 "metadata": {
  "kernelspec": {
   "display_name": "py_ml",
   "language": "python",
   "name": "python3"
  },
  "language_info": {
   "codemirror_mode": {
    "name": "ipython",
    "version": 3
   },
   "file_extension": ".py",
   "mimetype": "text/x-python",
   "name": "python",
   "nbconvert_exporter": "python",
   "pygments_lexer": "ipython3",
   "version": "3.12.2"
  }
 },
 "nbformat": 4,
 "nbformat_minor": 2
}
